{
 "cells": [
  {
   "cell_type": "code",
   "execution_count": null,
   "id": "2e0cfd57",
   "metadata": {},
   "outputs": [],
   "source": [
    "%run ../scripts/notebook_settings.py\n",
    "import sgkit as sg\n",
    "import xarray as xr\n",
    "import glob"
   ]
  },
  {
   "cell_type": "code",
   "execution_count": null,
   "id": "377eab59",
   "metadata": {},
   "outputs": [],
   "source": [
    "bed_test = pd.read_csv(\"/home/eriks/primatediversity/data/gVCFs_recalling_10_12_2024/Papio_cynocephalus_ssp/filteredVCF/pos_bed_cov_based/Papio_cynocephalus_ssp_batch19_fploidy2_mploidy2.bed\",\n",
    "           sep=\"\\t\", names=[\"chrom\", \"start\", \"end\"])\n",
    "(bed_test[\"end\"].sum()-bed_test[\"start\"].sum())/bed_test[\"end\"].max()"
   ]
  },
  {
   "cell_type": "code",
   "execution_count": null,
   "id": "de58160d",
   "metadata": {},
   "outputs": [],
   "source": [
    "# Standardized parts.\n",
    "short_form = \"Papio\"\n",
    "long_form = \"Papio_papio_ssp\"\n",
    "size_cutoff = 1000000\n",
    "window_size = 100000 # Should maybe decrease to 25 or 10kb.\n",
    "\n",
    "metadata_path = \"/home/eriks/primatediversity/data/gVCFs_recalling_10_12_2024_metadata/\"\n",
    "metadata_df = pd.read_csv(metadata_path+\"{}_individuals.txt\".format(short_form), sep=\"\\t\")\n",
    "metadata_df[\"SEX_I\"] = [0 if x == \"F\" else 1 for x in metadata_df.GENETIC_SEX]"
   ]
  },
  {
   "cell_type": "code",
   "execution_count": null,
   "id": "4c356ef6",
   "metadata": {},
   "outputs": [],
   "source": [
    "metadata_df"
   ]
  },
  {
   "cell_type": "code",
   "execution_count": null,
   "id": "7b6134a2",
   "metadata": {},
   "outputs": [],
   "source": [
    "sorted_f = metadata_df.loc[(metadata_df.GENETIC_SEX == \"F\")\n",
    "                      & (metadata_df.AVG_COVERAGE_X < 40)].sort_values(by=\"PROP_COVERED_A\", ascending=False)\n",
    "sorted_f.loc[sorted_f.GVCF_ID == \"SAMN03072807\"] # Want to check a Ruaha baboon, which is PD_0213-217 and 503"
   ]
  },
  {
   "cell_type": "markdown",
   "id": "f4a11358",
   "metadata": {},
   "source": [
    "Visualize the various PSMC curves for the test baboon cases."
   ]
  },
  {
   "cell_type": "code",
   "execution_count": null,
   "id": "f2b7159c",
   "metadata": {},
   "outputs": [],
   "source": [
    "id_l = []\n",
    "for p in glob.glob(\"../steps/cobraa/*b7_final_parameters.txt\"):\n",
    "    id_l.append(p.split(\"/\")[-1].split(\"_\")[0])"
   ]
  },
  {
   "cell_type": "code",
   "execution_count": null,
   "id": "62d2cbf9",
   "metadata": {},
   "outputs": [],
   "source": [
    "glob.glob(\"../steps/cobraa/SAMEA112483032*_final_parameters.txt\")"
   ]
  },
  {
   "cell_type": "code",
   "execution_count": null,
   "id": "ecec3bf9",
   "metadata": {},
   "outputs": [],
   "source": [
    "mu = 0.57e-08\n",
    "gen = 11\n",
    "for p in glob.glob(\"../steps/cobraa/SAMEA112482967_*_final_parameters.txt\"):\n",
    "    label_tag = p.split(\"/\")[-1].split(\"_\")[1]\n",
    "    final_params_file = p\n",
    "    final_params = np.loadtxt(final_params_file)\n",
    "    time_array = list(final_params[:,1])\n",
    "    time_array.insert(0,0)\n",
    "    time_array = np.array(time_array)\n",
    "    plt.stairs(edges=(time_array/mu)*gen,values=(1/final_params[:,2])/mu,label=label_tag,linewidth=4,linestyle=\"solid\",baseline=None)\n",
    "    plt.xlim(5e+04,2e+06)\n",
    "    plt.ylim(0,40e+04)\n",
    "    plt.xscale('log')\n",
    "    plt.ylabel('$N_A(t)$')\n",
    "    plt.xlabel('Years')\n",
    "    plt.tick_params(which='major',length=20)\n",
    "    plt.tick_params(which='minor',length=10)\n",
    "    plt.legend(ncol=2)\n",
    "    plt.title('Unstructured model')\n",
    "plt.show()"
   ]
  },
  {
   "cell_type": "code",
   "execution_count": null,
   "id": "cd7c7b5c",
   "metadata": {},
   "outputs": [],
   "source": [
    "mu = 0.57e-08\n",
    "gen = 11\n",
    "for p in [\"../steps/cobraa/SAMEA112482967_aut_final_parameters.txt\",\n",
    "         \"../steps/cobraa/SAMEA112482967_chrX_final_parameters.txt\"]:\n",
    "    label_tag = p.split(\"/\")[-1].split(\"_\")[1]\n",
    "    final_params_file = p\n",
    "    final_params = np.loadtxt(final_params_file)\n",
    "    time_array = list(final_params[:,1])\n",
    "    time_array.insert(0,0)\n",
    "    time_array = np.array(time_array)\n",
    "    plt.stairs(edges=(time_array/mu)*gen,values=(1/final_params[:,2])/mu,label=label_tag,linewidth=4,linestyle=\"solid\",baseline=None)\n",
    "    plt.xlim(5e+04,2e+06)\n",
    "    plt.ylim(0,40e+04)\n",
    "    plt.xscale('log')\n",
    "    plt.ylabel('$N_A(t)$')\n",
    "    plt.xlabel('Years')\n",
    "    plt.tick_params(which='major',length=20)\n",
    "    plt.tick_params(which='minor',length=10)\n",
    "    plt.legend(ncol=2)\n",
    "    plt.title('Unstructured model')\n",
    "plt.show()"
   ]
  },
  {
   "cell_type": "code",
   "execution_count": null,
   "id": "1525d7dc",
   "metadata": {},
   "outputs": [],
   "source": [
    "mu = 0.57e-08\n",
    "gen = 11\n",
    "for p in glob.glob(\"../steps/cobraa/PD_0214_chr*_final_parameters.txt\"):\n",
    "    label_tag = p.split(\"/\")[-1].split(\"_\")[2]\n",
    "    final_params_file = p\n",
    "    final_params = np.loadtxt(final_params_file)\n",
    "    time_array = list(final_params[:,1])\n",
    "    time_array.insert(0,0)\n",
    "    time_array = np.array(time_array)\n",
    "    plt.stairs(edges=(time_array/mu)*gen,values=(1/final_params[:,2])/mu,label=label_tag,linewidth=4,linestyle=\"solid\",baseline=None)\n",
    "    plt.xlim(5e+04,2e+06)\n",
    "    plt.ylim(0,40e+04)\n",
    "    plt.xscale('log')\n",
    "    plt.ylabel('$N_A(t)$')\n",
    "    plt.xlabel('Years')\n",
    "    plt.tick_params(which='major',length=20)\n",
    "    plt.tick_params(which='minor',length=10)\n",
    "    plt.legend(ncol=2)\n",
    "    plt.title('Unstructured model')\n",
    "plt.show()"
   ]
  },
  {
   "cell_type": "code",
   "execution_count": null,
   "id": "456a441e",
   "metadata": {},
   "outputs": [],
   "source": [
    "mu = 0.57e-08\n",
    "gen = 11\n",
    "for p in glob.glob(\"../steps/cobraa/SAMN02866411*_final_parameters.txt\"):\n",
    "    label_tag = p.split(\"/\")[-1].split(\"_\")[1]\n",
    "    final_params_file = p\n",
    "    final_params = np.loadtxt(final_params_file)\n",
    "    time_array = list(final_params[:,1])\n",
    "    time_array.insert(0,0)\n",
    "    time_array = np.array(time_array)\n",
    "    plt.stairs(edges=(time_array/mu)*gen,values=(1/final_params[:,2])/mu,label=label_tag,linewidth=4,linestyle=\"solid\",baseline=None)\n",
    "    plt.xlim(5e+04,2e+06)\n",
    "    plt.ylim(0,20e+04)\n",
    "    plt.xscale('log')\n",
    "    plt.ylabel('$N_A(t)$')\n",
    "    plt.xlabel('Years')\n",
    "    plt.tick_params(which='major',length=20)\n",
    "    plt.tick_params(which='minor',length=10)\n",
    "    plt.legend(ncol=2)\n",
    "    plt.title('Unstructured model')\n",
    "plt.show()"
   ]
  },
  {
   "cell_type": "code",
   "execution_count": null,
   "id": "27382a63",
   "metadata": {},
   "outputs": [],
   "source": [
    "#Papio_anubis, Papio_ursinus, Papio_kindae, Papio_cynocephalus, Papio_hamadryas, Papio_papio\n",
    "# SAMN02866411, SAMN02866412, SAMN03072807, SAMN02866414, SAMN24909952, SAMEA112483032\n",
    "mu = 0.57e-08\n",
    "gen = 11\n",
    "for p in glob.glob(\"../steps/cobraa/SAMN03072807*_final_parameters.txt\"):\n",
    "    label_tag = p.split(\"/\")[-1].split(\"_\")[1]\n",
    "    final_params_file = p\n",
    "    final_params = np.loadtxt(final_params_file)\n",
    "    time_array = list(final_params[:,1])\n",
    "    time_array.insert(0,0)\n",
    "    time_array = np.array(time_array)\n",
    "    plt.stairs(edges=(time_array/mu)*gen,values=(1/final_params[:,2])/mu,label=label_tag,linewidth=4,linestyle=\"solid\",baseline=None)\n",
    "    plt.xlim(10e+04,2e+06)\n",
    "    plt.ylim(0,30e+04)\n",
    "    plt.xscale('log')\n",
    "    plt.ylabel('$N_A(t)$')\n",
    "    plt.xlabel('Years')\n",
    "    plt.tick_params(which='major',length=20)\n",
    "    plt.tick_params(which='minor',length=10)\n",
    "    plt.legend(ncol=2)\n",
    "    plt.title('Unstructured model')\n",
    "plt.show()"
   ]
  },
  {
   "cell_type": "code",
   "execution_count": null,
   "id": "69444cef",
   "metadata": {},
   "outputs": [],
   "source": [
    "mu = 0.57e-08\n",
    "gen = 11\n",
    "cor_df = pd.DataFrame()\n",
    "for p in glob.glob(\"../steps/cobraa/SAMEA112483032_*_final_parameters.txt\"):\n",
    "    label_tag = p.split(\"/\")[-1].split(\"_\")[1]\n",
    "    final_params_file = p\n",
    "    final_params = np.loadtxt(final_params_file)\n",
    "    time_array = list(final_params[:,1])\n",
    "    time_array.insert(0,0)\n",
    "    time_array = np.array(time_array)\n",
    "    plt.stairs(edges=(time_array/mu)*gen,values=(1/final_params[:,2])/mu,label=label_tag,linewidth=4,linestyle=\"solid\",baseline=None)\n",
    "    plt.xlim(10e+04,2e+06)\n",
    "    plt.ylim(0,30e+04)\n",
    "    plt.xscale('log')\n",
    "    plt.ylabel('$N_A(t)$')\n",
    "    plt.xlabel('Years')\n",
    "    plt.tick_params(which='major',length=20)\n",
    "    plt.tick_params(which='minor',length=10)\n",
    "    plt.legend(ncol=2)\n",
    "    plt.title('Unstructured model')\n",
    "    cor_df[label_tag] = (1/final_params[:,2])/mu\n",
    "plt.show()"
   ]
  },
  {
   "cell_type": "code",
   "execution_count": null,
   "id": "802e275a",
   "metadata": {},
   "outputs": [],
   "source": [
    "sns.heatmap(cor_df.corr())"
   ]
  },
  {
   "cell_type": "code",
   "execution_count": null,
   "id": "191621b6",
   "metadata": {},
   "outputs": [],
   "source": [
    "mu = 0.57e-08\n",
    "gen = 11\n",
    "cor_df = pd.DataFrame()\n",
    "for p in glob.glob(\"../steps/cobraa/SAMN02866414*_final_parameters.txt\"):\n",
    "    label_tag = p.split(\"/\")[-1].split(\"_\")[1]\n",
    "    final_params_file = p\n",
    "    final_params = np.loadtxt(final_params_file)\n",
    "    time_array = list(final_params[:,1])\n",
    "    time_array.insert(0,0)\n",
    "    time_array = np.array(time_array)\n",
    "    plt.stairs(edges=(time_array/mu)*gen,values=(1/final_params[:,2])/mu,label=label_tag,linewidth=4,linestyle=\"solid\",baseline=None)\n",
    "    plt.xlim(10e+04,2e+06)\n",
    "    plt.ylim(0,20e+04)\n",
    "    plt.xscale('log')\n",
    "    plt.ylabel('$N_A(t)$')\n",
    "    plt.xlabel('Years')\n",
    "    plt.tick_params(which='major',length=20)\n",
    "    plt.tick_params(which='minor',length=10)\n",
    "    plt.legend(ncol=2)\n",
    "    plt.title('Unstructured model')\n",
    "    cor_df[label_tag] = (1/final_params[:,2])/mu\n",
    "plt.show()"
   ]
  },
  {
   "cell_type": "code",
   "execution_count": null,
   "id": "1baf025e",
   "metadata": {},
   "outputs": [],
   "source": [
    "sns.heatmap(cor_df.corr())"
   ]
  },
  {
   "cell_type": "code",
   "execution_count": null,
   "id": "1375d5aa",
   "metadata": {},
   "outputs": [],
   "source": [
    "mu = 0.57e-08\n",
    "gen = 11\n",
    "cor_df = pd.DataFrame()\n",
    "for p in glob.glob(\"../steps/cobraa/SAMN02866414_b1*_final_parameters.txt\")[:]:\n",
    "    label_tag = p.split(\"/\")[-1].split(\"_\")[1]\n",
    "    final_params_file = p\n",
    "    final_params = np.loadtxt(final_params_file)\n",
    "    time_array = list(final_params[:,1])\n",
    "    time_array.insert(0,0)\n",
    "    time_array = np.array(time_array)\n",
    "    plt.stairs(edges=(time_array/mu)*gen,values=(1/final_params[:,2])/mu,label=label_tag,linewidth=4,linestyle=\"solid\",baseline=None)\n",
    "    plt.xlim(10e+04,2e+06)\n",
    "    plt.ylim(0,20e+04)\n",
    "    plt.xscale('log')\n",
    "    plt.ylabel('$N_A(t)$')\n",
    "    plt.xlabel('Years')\n",
    "    plt.tick_params(which='major',length=20)\n",
    "    plt.tick_params(which='minor',length=10)\n",
    "    plt.legend(ncol=2)\n",
    "    plt.title('Unstructured model')\n",
    "    cor_df[label_tag] = (1/final_params[:,2])/mu\n",
    "plt.show()"
   ]
  },
  {
   "cell_type": "code",
   "execution_count": null,
   "id": "37c19a67",
   "metadata": {},
   "outputs": [],
   "source": [
    "time_array"
   ]
  }
 ],
 "metadata": {
  "kernelspec": {
   "display_name": "Python 3 (ipykernel)",
   "language": "python",
   "name": "python3"
  },
  "language_info": {
   "codemirror_mode": {
    "name": "ipython",
    "version": 3
   },
   "file_extension": ".py",
   "mimetype": "text/x-python",
   "name": "python",
   "nbconvert_exporter": "python",
   "pygments_lexer": "ipython3",
   "version": "3.12.11"
  }
 },
 "nbformat": 4,
 "nbformat_minor": 5
}
